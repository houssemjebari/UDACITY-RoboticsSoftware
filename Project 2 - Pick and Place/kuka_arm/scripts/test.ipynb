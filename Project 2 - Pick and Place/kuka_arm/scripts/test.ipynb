{
 "cells": [
  {
   "cell_type": "code",
   "execution_count": 4,
   "metadata": {},
   "outputs": [],
   "source": [
    "from sympy import *\n",
    "import numpy as np"
   ]
  },
  {
   "cell_type": "code",
   "execution_count": 5,
   "metadata": {},
   "outputs": [],
   "source": [
    "q1, q2, q3, q4, q5, q6, q7 = symbols('q1:8')\n",
    "d1, d2, d3, d4, d5, d6, d7 = symbols('d1:8')\n",
    "a0, a1, a2, a3, a4, a5, a6 = symbols('a0:7')\n",
    "alpha0, alpha1, alpha2, alpha3, alpha4, alpha5, alpha6 = symbols('alpha0:7')"
   ]
  },
  {
   "cell_type": "code",
   "execution_count": 6,
   "metadata": {},
   "outputs": [],
   "source": [
    "s = {alpha0:     0, a0:      0, d1:  0.75, \n",
    "     alpha1: -pi/2, a1:   0.35, d2:     0, q2: q2 - np.pi/2,\n",
    "     alpha2:     0, a2:   1.25, d3:     0, \n",
    "     alpha3: -pi/2, a3: -0.054, d4:  1.50, \n",
    "     alpha4:  pi/2, a4:      0, d5:     0, \n",
    "     alpha5: -pi/2, a5:      0, d6:     0, \n",
    "     alpha6:     0, a6:      0, d7: 0.303, q7: 0}"
   ]
  },
  {
   "cell_type": "code",
   "execution_count": 7,
   "metadata": {},
   "outputs": [],
   "source": [
    "T0_1 = Matrix([[             cos(q1),            -sin(q1),            0,              a0],\n",
    "               [ sin(q1)*cos(alpha0), cos(q1)*cos(alpha0), -sin(alpha0), -sin(alpha0)*d1],\n",
    "               [ sin(q1)*sin(alpha0), cos(q1)*sin(alpha0),  cos(alpha0),  cos(alpha0)*d1],\n",
    "               [                   0,                   0,            0,               1]])\n",
    "T0_1 = T0_1.subs(s)\n",
    "T1_2 = Matrix([[             cos(q2),            -sin(q2),            0,              a1],\n",
    "               [ sin(q2)*cos(alpha1), cos(q2)*cos(alpha1), -sin(alpha1), -sin(alpha1)*d2],\n",
    "               [ sin(q2)*sin(alpha1), cos(q2)*sin(alpha1),  cos(alpha1),  cos(alpha1)*d2],\n",
    "               [                   0,                   0,            0,               1]])\n",
    "T1_2 = T1_2.subs(s)\n",
    "T2_3 = Matrix([[             cos(q3),            -sin(q3),            0,              a2],\n",
    "               [ sin(q3)*cos(alpha2), cos(q3)*cos(alpha2), -sin(alpha2), -sin(alpha2)*d3],\n",
    "               [ sin(q3)*sin(alpha2), cos(q3)*sin(alpha2),  cos(alpha2),  cos(alpha2)*d3],\n",
    "               [                   0,                   0,            0,               1]])\n",
    "T2_3 = T2_3.subs(s)\n",
    "T3_4 = Matrix([[             cos(q4),            -sin(q4),            0,              a3],\n",
    "               [ sin(q4)*cos(alpha3), cos(q4)*cos(alpha3), -sin(alpha3), -sin(alpha3)*d4],\n",
    "               [ sin(q4)*sin(alpha3), cos(q4)*sin(alpha3),  cos(alpha3),  cos(alpha3)*d4],\n",
    "               [                   0,                   0,            0,               1]])\n",
    "T3_4 = T3_4.subs(s)\n",
    "T4_5 = Matrix([[             cos(q5),            -sin(q5),            0,              a4],\n",
    "               [ sin(q5)*cos(alpha4), cos(q5)*cos(alpha4), -sin(alpha4), -sin(alpha4)*d5],\n",
    "               [ sin(q5)*sin(alpha4), cos(q5)*sin(alpha4),  cos(alpha4),  cos(alpha4)*d5],\n",
    "               [                   0,                   0,            0,               1]])\n",
    "T4_5 = T4_5.subs(s)\n",
    "T5_6 = Matrix([[             cos(q6),            -sin(q6),            0,              a5],\n",
    "               [ sin(q6)*cos(alpha5), cos(q6)*cos(alpha5), -sin(alpha5), -sin(alpha5)*d6],\n",
    "               [ sin(q6)*sin(alpha5), cos(q6)*sin(alpha5),  cos(alpha5),  cos(alpha5)*d6],\n",
    "               [                   0,                   0,            0,               1]])\n",
    "T5_6 = T5_6.subs(s)\n",
    "T6_7 = Matrix([[             cos(q7),            -sin(q7),            0,              a6],\n",
    "               [ sin(q7)*cos(alpha6), cos(q7)*cos(alpha6), -sin(alpha6), -sin(alpha6)*d7],\n",
    "               [ sin(q7)*sin(alpha6), cos(q7)*sin(alpha6),  cos(alpha6),  cos(alpha6)*d7],\n",
    "               [                   0,                   0,            0,               1]])\n",
    "T6_7 = T6_7.subs(s)\n"
   ]
  },
  {
   "cell_type": "code",
   "execution_count": 10,
   "metadata": {},
   "outputs": [
    {
     "name": "stdout",
     "output_type": "stream",
     "text": [
      "Matrix([[1, 0, 0, 0], [0, 1, 0, 0], [0, 0, 1, 0.303000000000000], [0, 0, 0, 1]])\n"
     ]
    }
   ],
   "source": [
    "print(T6_7)"
   ]
  },
  {
   "cell_type": "code",
   "execution_count": 24,
   "metadata": {},
   "outputs": [],
   "source": [
    "R0_1 = T0_1[:3,:3]\n",
    "R1_2 = T1_2[:3,:3]\n",
    "R2_3 = T2_3[:3,:3]\n",
    "R3_4 = T3_4[:3,:3]\n",
    "R4_5 = T4_5[:3,:3]\n",
    "R5_6 = T5_6[:3,:3]\n",
    "R6_7 = T6_7[:3,:3]"
   ]
  },
  {
   "cell_type": "code",
   "execution_count": 25,
   "metadata": {},
   "outputs": [
    {
     "data": {
      "text/latex": [
       "$\\displaystyle \\left[\\begin{matrix}\\cos{\\left(q_{1} \\right)} & - \\sin{\\left(q_{1} \\right)} & 0\\\\\\sin{\\left(q_{1} \\right)} & \\cos{\\left(q_{1} \\right)} & 0\\\\0 & 0 & 1\\end{matrix}\\right]$"
      ],
      "text/plain": [
       "Matrix([\n",
       "[cos(q1), -sin(q1), 0],\n",
       "[sin(q1),  cos(q1), 0],\n",
       "[      0,        0, 1]])"
      ]
     },
     "execution_count": 25,
     "metadata": {},
     "output_type": "execute_result"
    }
   ],
   "source": [
    "R0_1"
   ]
  },
  {
   "cell_type": "code",
   "execution_count": 39,
   "metadata": {},
   "outputs": [],
   "source": [
    "Pos_corr = Matrix([[0.],[2.75],[3.1]])\n",
    "W = Pos_corr - d7 * R6_7[:,2]"
   ]
  },
  {
   "cell_type": "code",
   "execution_count": 41,
   "metadata": {},
   "outputs": [],
   "source": [
    "W = W.subs(s)"
   ]
  },
  {
   "cell_type": "code",
   "execution_count": 44,
   "metadata": {},
   "outputs": [],
   "source": [
    "Wx = W[0,0]\n",
    "Wy = W[1,0]\n",
    "Wz = W[2,0]\n",
    "# Calculate the A,B and C parameters\n",
    "A = 1.50\n",
    "B = sqrt(Wx**2 + (Wz - 0.75)**2)\n",
    "C = 1.25"
   ]
  },
  {
   "cell_type": "code",
   "execution_count": 72,
   "metadata": {},
   "outputs": [],
   "source": [
    "theta1 = atan2(Wy,Wx).subs({pi:np.pi})\n",
    "theta2 = (pi/2 - acos((B**2 + C**2 - A**2)/(2*B*C)) - atan2(Wz - 0.75,Wx)).subs({pi:np.pi})\n",
    "theta3 = (pi/2 - (acos((A**2 + C**2 - B**2)/(2*A*C)) + 0.036)).subs({pi:np.pi})"
   ]
  },
  {
   "cell_type": "code",
   "execution_count": 73,
   "metadata": {},
   "outputs": [
    {
     "data": {
      "text/latex": [
       "$\\displaystyle -0.136893487034468$"
      ],
      "text/plain": [
       "-0.136893487034468"
      ]
     },
     "execution_count": 73,
     "metadata": {},
     "output_type": "execute_result"
    }
   ],
   "source": [
    "theta3"
   ]
  },
  {
   "cell_type": "code",
   "execution_count": 74,
   "metadata": {},
   "outputs": [],
   "source": [
    "R0_3 = R0_1 * R1_2 * R2_3\n",
    "R0_3 = R0_3.subs(s)\n",
    "R0_3 = R0_3.subs({q1:theta1,q2:theta2,q3:theta3})"
   ]
  },
  {
   "cell_type": "code",
   "execution_count": 76,
   "metadata": {},
   "outputs": [
    {
     "data": {
      "text/latex": [
       "$\\displaystyle \\left[\\begin{matrix}-3.5426739074554 \\cdot 10^{-17} & -0.578562555329741 & -0.815638013809019\\\\-4.9943424143706 \\cdot 10^{-17} & -0.815638013809019 & 0.578562555329741\\\\-1.0 & 6.12323399573677 \\cdot 10^{-17} & 0\\end{matrix}\\right]$"
      ],
      "text/plain": [
       "Matrix([\n",
       "[-3.5426739074554e-17,   -0.578562555329741, -0.815638013809019],\n",
       "[-4.9943424143706e-17,   -0.815638013809019,  0.578562555329741],\n",
       "[                -1.0, 6.12323399573677e-17,                  0]])"
      ]
     },
     "execution_count": 76,
     "metadata": {},
     "output_type": "execute_result"
    }
   ],
   "source": [
    "R0_3.T"
   ]
  },
  {
   "cell_type": "code",
   "execution_count": 83,
   "metadata": {},
   "outputs": [],
   "source": [
    "R0_7 = R0_1 * R1_2 * R2_3 * R3_4 * R4_5 * R5_6 * R6_7\n",
    "R0_7 = R0_7.subs(s)"
   ]
  },
  {
   "cell_type": "code",
   "execution_count": 84,
   "metadata": {},
   "outputs": [],
   "source": [
    "R3_7 = R0_3.T * R0_7\n",
    "theta4 = atan2(R3_7[2,2],R3_7[0,2])\n",
    "theta5 = atan2(sqrt(R3_7[2,2]**2 + R3_7[0,2]**2),R3_7[1,2])\n",
    "theta6 = atan2(-R3_7[1,1],R3_7[1,0])"
   ]
  },
  {
   "cell_type": "markdown",
   "metadata": {},
   "source": [
    "## This Code is for Debugging IK_Server.py"
   ]
  },
  {
   "cell_type": "code",
   "execution_count": 30,
   "metadata": {},
   "outputs": [],
   "source": [
    "import math\n",
    "def euler_from_quaternion(x, y, z, w):\n",
    "        \"\"\"\n",
    "        Convert a quaternion into euler angles (roll, pitch, yaw)\n",
    "        roll is rotation around x in radians (counterclockwise)\n",
    "        pitch is rotation around y in radians (counterclockwise)\n",
    "        yaw is rotation around z in radians (counterclockwise)\n",
    "        \"\"\"\n",
    "        t0 = +2.0 * (w * x + y * z)\n",
    "        t1 = +1.0 - 2.0 * (x * x + y * y)\n",
    "        roll_x = math.atan2(t0, t1)\n",
    "     \n",
    "        t2 = +2.0 * (w * y - z * x)\n",
    "        t2 = +1.0 if t2 > +1.0 else t2\n",
    "        t2 = -1.0 if t2 < -1.0 else t2\n",
    "        pitch_y = math.asin(t2)\n",
    "     \n",
    "        t3 = +2.0 * (w * z + x * y)\n",
    "        t4 = +1.0 - 2.0 * (y * y + z * z)\n",
    "        yaw_z = math.atan2(t3, t4)\n",
    "     \n",
    "        return roll_x, pitch_y, yaw_z # in radians\n"
   ]
  },
  {
   "cell_type": "code",
   "execution_count": 193,
   "metadata": {},
   "outputs": [],
   "source": [
    "from time import time\n",
    "def test_code(test_case):\n",
    "    x = 0\n",
    "    class Position:\n",
    "        def __init__(self,EE_pos):\n",
    "            self.x = EE_pos[0]\n",
    "            self.y = EE_pos[1]\n",
    "            self.z = EE_pos[2]\n",
    "    class Orientation:\n",
    "        def __init__(self,EE_ori):\n",
    "            self.x = EE_ori[0]\n",
    "            self.y = EE_ori[1]\n",
    "            self.z = EE_ori[2]\n",
    "            self.w = EE_ori[3]\n",
    "\n",
    "    position = Position(test_case[0][0])\n",
    "    orientation = Orientation(test_case[0][1])\n",
    "\n",
    "    class Combine:\n",
    "        def __init__(self,position,orientation):\n",
    "            self.position = position\n",
    "            self.orientation = orientation\n",
    "\n",
    "    comb = Combine(position,orientation)\n",
    "\n",
    "    class Pose:\n",
    "        def __init__(self,comb):\n",
    "                self.poses = [comb]\n",
    "\n",
    "    req = Pose(comb)\n",
    "    start_time = time()\n",
    "    if len(req.poses) < 1:\n",
    "        print (\"No valid poses received\")\n",
    "        return (-1)\n",
    "    else:\n",
    "\n",
    "        ### Your FK code here\n",
    "        # Create symbols\n",
    "        q1, q2, q3, q4, q5, q6, q7 = symbols('q1:8')\n",
    "        d1, d2, d3, d4, d5, d6, d7 = symbols('d1:8')\n",
    "        a0, a1, a2, a3, a4, a5, a6 = symbols('a0:7')\n",
    "        alpha0, alpha1, alpha2, alpha3, alpha4, alpha5, alpha6 = symbols('alpha0:7')\n",
    "\t# Create Modified DH parameters\n",
    "        s = {alpha0:     0, a0:      0, d1:  0.75, \n",
    "             alpha1: -pi/2, a1:   0.35, d2:     0, q2: q2 - np.pi/2,\n",
    "             alpha2:     0, a2:   1.25, d3:     0, \n",
    "             alpha3: -pi/2, a3: -0.054, d4:  1.50, \n",
    "             alpha4:  pi/2, a4:      0, d5:     0, \n",
    "             alpha5: -pi/2, a5:      0, d6:     0, \n",
    "             alpha6:     0, a6:      0, d7: 0.303, q7: 0}\n",
    "\t# Define Modified DH Transformation matrix\n",
    "        T0_1 = Matrix([[             cos(q1),            -sin(q1),            0,              a1],\n",
    "                       [ sin(q1)*cos(alpha0), cos(q1)*cos(alpha0), -sin(alpha0), -sin(alpha0)*d1],\n",
    "                       [ sin(q1)*sin(alpha0), cos(q1)*sin(alpha0),  cos(alpha0),  cos(alpha0)*d1],\n",
    "                       [                   0,                   0,            0,               1]])\n",
    "        T0_1 = T0_1.subs(s)\n",
    "        T1_2 = Matrix([[             cos(q2),            -sin(q2),            0,              a1],\n",
    "                       [ sin(q2)*cos(alpha1), cos(q2)*cos(alpha1), -sin(alpha1), -sin(alpha1)*d2],\n",
    "                       [ sin(q2)*sin(alpha1), cos(q2)*sin(alpha1),  cos(alpha1),  cos(alpha1)*d2],\n",
    "                       [                   0,                   0,            0,               1]])\n",
    "        T1_2 = T1_2.subs(s)\n",
    "        T2_3 = Matrix([[             cos(q3),            -sin(q3),            0,              a2],\n",
    "                       [ sin(q3)*cos(alpha2), cos(q3)*cos(alpha2), -sin(alpha2), -sin(alpha2)*d3],\n",
    "                       [ sin(q3)*sin(alpha2), cos(q3)*sin(alpha2),  cos(alpha2),  cos(alpha2)*d3],\n",
    "                       [                   0,                   0,            0,               1]])\n",
    "        T2_3 = T2_3.subs(s)\n",
    "        T3_4 = Matrix([[             cos(q4),            -sin(q4),            0,              a3],\n",
    "                       [ sin(q4)*cos(alpha3), cos(q4)*cos(alpha3), -sin(alpha3), -sin(alpha3)*d4],\n",
    "                       [ sin(q4)*sin(alpha3), cos(q4)*sin(alpha3),  cos(alpha3),  cos(alpha3)*d4],\n",
    "                       [                   0,                   0,            0,               1]])\n",
    "        T3_4 = T3_4.subs(s)\n",
    "        T4_5 = Matrix([[             cos(q5),            -sin(q5),            0,              a4],\n",
    "                       [ sin(q5)*cos(alpha4), cos(q5)*cos(alpha4), -sin(alpha4), -sin(alpha4)*d5],\n",
    "                       [ sin(q5)*sin(alpha4), cos(q5)*sin(alpha4),  cos(alpha4),  cos(alpha4)*d5],\n",
    "                       [                   0,                   0,            0,               1]])\n",
    "        T4_5 = T4_5.subs(s)\n",
    "        T5_6 = Matrix([[             cos(q6),            -sin(q6),            0,              a5],\n",
    "                       [ sin(q6)*cos(alpha5), cos(q6)*cos(alpha5), -sin(alpha5), -sin(alpha5)*d6],\n",
    "                       [ sin(q6)*sin(alpha5), cos(q6)*sin(alpha5),  cos(alpha5),  cos(alpha5)*d6],\n",
    "                       [                   0,                   0,            0,               1]])\n",
    "        T5_6 = T5_6.subs(s)\n",
    "        T6_7 = Matrix([[             cos(q7),            -sin(q7),            0,              a6],\n",
    "                       [ sin(q7)*cos(alpha6), cos(q7)*cos(alpha6), -sin(alpha6), -sin(alpha6)*d7],\n",
    "                       [ sin(q7)*sin(alpha6), cos(q7)*sin(alpha6),  cos(alpha6),  cos(alpha6)*d7],\n",
    "                       [                   0,                   0,            0,               1]])\n",
    "        T6_7 = T6_7.subs(s)\n",
    "\t# Extract rotation matrices from the transformation matrices\n",
    "        R0_1 = T0_1[:3,:3]\n",
    "        R1_2 = T1_2[:3,:3]\n",
    "        R2_3 = T2_3[:3,:3]\n",
    "        R3_4 = T3_4[:3,:3]\n",
    "        R4_5 = T4_5[:3,:3]\n",
    "        R5_6 = T5_6[:3,:3]\n",
    "        R6_7 = T6_7[:3,:3]\n",
    "        R0_7 = R0_1 * R1_2 * R2_3 * R3_4 * R4_5 * R5_6 * R6_7\n",
    "\t#\n",
    "        ###\n",
    "\n",
    "        # Initialize service response\n",
    "        joint_trajectory_list = []\n",
    "        for x in range(0, len(req.poses)):\n",
    "\t    # Extract end-effector position and orientation from request\n",
    "\t    # px,py,pz = end-effector position\n",
    "\t    # roll, pitch, yaw = end-effector orientation\n",
    "            px = req.poses[x].position.x\n",
    "            py = req.poses[x].position.y\n",
    "            pz = req.poses[x].position.z\n",
    "            (roll, pitch, yaw) = euler_from_quaternion(\n",
    "                req.poses[x].orientation.x, req.poses[x].orientation.y,\n",
    "                    req.poses[x].orientation.z, req.poses[x].orientation.w)\n",
    "            ### Your IK code here\n",
    "\t    # Compensate for rotation discrepancy between DH parameters and Gazebo\n",
    "        R_y = Matrix([[ cos(-np.pi/2),     0,  sin(-np.pi/2)],\n",
    "                      [             0,     1,              0],\n",
    "                      [-sin(-np.pi/2),     0,  cos(-np.pi/2)]])\n",
    "\n",
    "        R_z = Matrix([[ cos(np.pi),   -sin(np.pi),       0],\n",
    "                      [ sin(np.pi),    cos(np.pi),       0],\n",
    "                      [          0,             0,       1]])\n",
    "        R_corr = simplify(R_z * R_y)\n",
    "        # Compute R0_7\n",
    "        R_x = Matrix([[ 1,        0,           0],\n",
    "                      [ 0,  cos(roll),    -sin(roll)],\n",
    "                      [ 0,  sin(roll),    cos(roll)]])\n",
    "\n",
    "        R_y = Matrix([[ cos(pitch),    0,  sin(pitch)],\n",
    "                      [ 0,          1,        0],\n",
    "                      [ -sin(pitch),   0,  cos(pitch)]])\n",
    "\n",
    "        R_z = Matrix([[cos(yaw), -sin(yaw),      0],\n",
    "                      [sin(yaw),  cos(yaw),      0],\n",
    "                      [       0,         0,      1]])\n",
    "        # Calculate joint angles using Geometric IK method\n",
    "        R0_7 = R_z * R_y * R_x * R_corr # Tait-Bryon X-Y-Z extrinsic rotations\n",
    "        # Calculate Wrist center position\n",
    "        Pos = Matrix([[px],[py],[pz]])\n",
    "        W = Pos - d7 * R0_7[:,2]\n",
    "        W = W.subs(s)\n",
    "        Wx = W[0,0]\n",
    "        Wy = W[1,0]\n",
    "        Wz = W[2,0]\n",
    "        # Calculate the A,B and C parameters\n",
    "        A = 1.50\n",
    "        B = sqrt(Wx**2,(Wz - 0.75)**2)\n",
    "        B = sqrt((sqrt(Wx**2+Wy**2)-0.35)**2+(Wz-0.75)**2)\n",
    "        C = 1.25\n",
    "        # Calculate the first three joint angles\n",
    "        theta1 = atan2(Wy,Wx).subs({pi:np.pi})\n",
    "        theta2 = (pi/2 - acos((B**2 + C**2 - A**2)/(2*B*C)) - atan2(Wz - 0.75,sqrt(Wx**2 + Wy**2) - 0.35)).subs({pi:np.pi})\n",
    "        theta3 = (pi/2 - (acos((A**2 + C**2 - B**2)/(2*A*C)) + 0.036)).subs({pi:np.pi}) \n",
    "        # Calculate the rotation matrix R3_6\n",
    "        R0_3 = R0_1 * R1_2 * R2_3\n",
    "        R0_3 = R0_3.subs(s)\n",
    "        R0_3 = R0_3.subs({q1:theta1,q2:theta2,q3:theta3})\n",
    "        R3_7 = R0_3.T * R0_7\n",
    "        theta4 = atan2(R3_7[2,2],-R3_7[0,2])\n",
    "        theta5 = atan2(sqrt(R3_7[2,2]**2 + R3_7[0,2]**2),R3_7[1,2])\n",
    "        theta6 = atan2(-R3_7[1,1],R3_7[1,0])\n",
    "        \n",
    "        T0_7 = T0_1 * T1_2 * T2_3 * T3_4 * T4_5 * T5_6 * T6_7 \n",
    "        EE = T0_7 \n",
    "        EE = EE.subs({q1:theta1,q2:theta2,q3:theta3,q4:theta4,q5:theta5,q6:theta6})\n",
    "\n",
    "\n",
    "        your_wc = [float(Wx),float(Wy),float(Wz)] # <--- Load your calculated WC values in this array\n",
    "        your_ee = [float(EE[0,3]),float(EE[1,3]),float(EE[2,3])] # <--- Load your calculated end effector value from your forward kinematics\n",
    "    ########################################################################################\n",
    "\n",
    "    ## Error analysis\n",
    "    print (\"\\nTotal run time to calculate joint angles from pose is %04.4f seconds\" % (time()-start_time))\n",
    "        # Find WC error\n",
    "    if not(sum(your_wc)==3):\n",
    "        wc_x_e = abs(your_wc[0]-test_case[1][0])\n",
    "        wc_y_e = abs(your_wc[1]-test_case[1][1])\n",
    "        wc_z_e = abs(your_wc[2]-test_case[1][2])\n",
    "        wc_offset = sqrt(wc_x_e**2 + wc_y_e**2 + wc_z_e**2)\n",
    "        print (\"\\nWrist error for x position is: %04.8f\" % wc_x_e)\n",
    "        print (\"Wrist error for y position is: %04.8f\" % wc_y_e)\n",
    "        print (\"Wrist error for z position is: %04.8f\" % wc_z_e)\n",
    "        print (\"Overall wrist offset is: %04.8f units\" % wc_offset)\n",
    "\n",
    "    # Find theta errors\n",
    "    t_1_e = abs(theta1-test_case[2][0])\n",
    "    t_2_e = abs(theta2-test_case[2][1])\n",
    "    t_3_e = abs(theta3-test_case[2][2])\n",
    "    t_4_e = abs(theta4-test_case[2][3])\n",
    "    t_5_e = abs(theta5-test_case[2][4])\n",
    "    t_6_e = abs(theta6-test_case[2][5])\n",
    "    print (\"\\nTheta 1 error is: %04.8f\" % t_1_e)\n",
    "    print (\"Theta 2 error is: %04.8f\" % t_2_e)\n",
    "    print (\"Theta 3 error is: %04.8f\" % t_3_e)\n",
    "    print (\"Theta 4 error is: %04.8f\" % t_4_e)\n",
    "    print (\"Theta 5 error is: %04.8f\" % t_5_e)\n",
    "    print (\"Theta 6 error is: %04.8f\" % t_6_e)\n",
    "    print (\"\\n**These theta errors may not be a correct representation of your code, due to the fact \\\n",
    "           \\nthat the arm can have muliple positions. It is best to add your forward kinmeatics to \\\n",
    "           \\nconfirm whether your code is working or not**\")\n",
    "    print (\" \")\n",
    "\n",
    "    # Find FK EE error\n",
    "    if not(sum(your_ee)==3):\n",
    "        ee_x_e = abs(your_ee[0]-test_case[0][0][0])\n",
    "        ee_y_e = abs(your_ee[1]-test_case[0][0][1])\n",
    "        ee_z_e = abs(your_ee[2]-test_case[0][0][2])\n",
    "        ee_offset = sqrt(ee_x_e**2 + ee_y_e**2 + ee_z_e**2)\n",
    "        print (\"\\nEnd effector error for x position is: %04.8f\" % ee_x_e)\n",
    "        print (\"End effector error for y position is: %04.8f\" % ee_y_e)\n",
    "        print (\"End effector error for z position is: %04.8f\" % ee_z_e)\n",
    "        print (\"Overall end effector offset is: %04.8f units \\n\" % ee_offset)"
   ]
  },
  {
   "cell_type": "code",
   "execution_count": 194,
   "metadata": {},
   "outputs": [],
   "source": [
    "test_cases = {1:[[[2.16135,-1.42635,1.55109],\n",
    "                  [0.708611,0.186356,-0.157931,0.661967]],\n",
    "                  [1.89451,-1.44302,1.69366],\n",
    "                  [-0.65,0.45,-0.36,0.95,0.79,0.49]],\n",
    "              2:[[[-0.56754,0.93663,3.0038],\n",
    "                  [0.62073, 0.48318,0.38759,0.480629]],\n",
    "                  [-0.638,0.64198,2.9988],\n",
    "                  [-0.79,-0.11,-2.33,1.94,1.14,-3.68]],\n",
    "              3:[[[-1.3863,0.02074,0.90986],\n",
    "                  [0.01735,-0.2179,0.9025,0.371016]],\n",
    "                  [-1.1669,-0.17989,0.85137],\n",
    "                  [-2.99,-0.12,0.94,4.06,1.29,-4.12]],\n",
    "              4:[],\n",
    "              5:[]}\n"
   ]
  },
  {
   "cell_type": "code",
   "execution_count": 197,
   "metadata": {},
   "outputs": [
    {
     "name": "stdout",
     "output_type": "stream",
     "text": [
      "\n",
      "Total run time to calculate joint angles from pose is 1.4252 seconds\n",
      "\n",
      "Wrist error for x position is: 0.00000051\n",
      "Wrist error for y position is: 0.00000033\n",
      "Wrist error for z position is: 0.00000554\n",
      "Overall wrist offset is: 0.00000557 units\n",
      "\n",
      "Theta 1 error is: 0.00093769\n",
      "Theta 2 error is: 0.00096557\n",
      "Theta 3 error is: 0.00312079\n",
      "Theta 4 error is: 0.26389616\n",
      "Theta 5 error is: 1.20495726\n",
      "Theta 6 error is: 1.10278924\n",
      "\n",
      "**These theta errors may not be a correct representation of your code, due to the fact            \n",
      "that the arm can have muliple positions. It is best to add your forward kinmeatics to            \n",
      "confirm whether your code is working or not**\n",
      " \n",
      "\n",
      "End effector error for x position is: 0.07651576\n",
      "End effector error for y position is: 0.20830886\n",
      "End effector error for z position is: 0.05969346\n",
      "Overall end effector offset is: 0.22980546 units \n",
      "\n"
     ]
    }
   ],
   "source": [
    "test_case_number = 1\n",
    "test_code(test_cases[test_case_number])"
   ]
  }
 ],
 "metadata": {
  "interpreter": {
   "hash": "2c171bff2cae98c41b2ae55aab1df891c69c295b61356962a826b91bc9c88d78"
  },
  "kernelspec": {
   "display_name": "Python 3.6.8 64-bit",
   "language": "python",
   "name": "python3"
  },
  "language_info": {
   "codemirror_mode": {
    "name": "ipython",
    "version": 3
   },
   "file_extension": ".py",
   "mimetype": "text/x-python",
   "name": "python",
   "nbconvert_exporter": "python",
   "pygments_lexer": "ipython3",
   "version": "3.6.3"
  },
  "orig_nbformat": 4
 },
 "nbformat": 4,
 "nbformat_minor": 2
}
